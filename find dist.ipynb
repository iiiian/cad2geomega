{
 "metadata": {
  "language_info": {
   "codemirror_mode": {
    "name": "ipython",
    "version": 3
   },
   "file_extension": ".py",
   "mimetype": "text/x-python",
   "name": "python",
   "nbconvert_exporter": "python",
   "pygments_lexer": "ipython3",
   "version": "3.7.9-final"
  },
  "orig_nbformat": 2,
  "kernelspec": {
   "name": "python3",
   "display_name": "Python 3",
   "language": "python"
  }
 },
 "nbformat": 4,
 "nbformat_minor": 2,
 "cells": [
  {
   "cell_type": "code",
   "execution_count": 1,
   "metadata": {},
   "outputs": [],
   "source": [
    "import numpy as np"
   ]
  },
  {
   "source": [
    "find distance"
   ],
   "cell_type": "markdown",
   "metadata": {}
  },
  {
   "cell_type": "code",
   "execution_count": 4,
   "metadata": {},
   "outputs": [
    {
     "output_type": "stream",
     "name": "stdout",
     "text": [
      "3.8748906519926463\n"
     ]
    }
   ],
   "source": [
    "#a=[2.828427,0,-5.3413146]\n",
    "#b=[5.656854,0,-8.171573]\n",
    "#a=[8.171537,3,0]\n",
    "#b=[2.12132,-3,-11.70711]\n",
    "a=[0,3,-8.46446]\n",
    "b=[2.12132,3,-11.70711]\n",
    "\n",
    "va=np.array(a)\n",
    "vb=np.array(b)\n",
    "dis=va-vb\n",
    "dist=np.dot(dis,dis)**0.5\n",
    "print(dist)"
   ]
  },
  {
   "source": [
    "find rotation"
   ],
   "cell_type": "markdown",
   "metadata": {}
  },
  {
   "cell_type": "code",
   "execution_count": 5,
   "metadata": {},
   "outputs": [
    {
     "output_type": "stream",
     "name": "stdout",
     "text": [
      "123.19244394122408\n90.0\n33.19244394122407\n"
     ]
    }
   ],
   "source": [
    "def rad2deg(theta):\n",
    "    ans=theta/np.pi*180\n",
    "    return ans\n",
    "\n",
    "#a=[2.828427,0,-5.3413146]\n",
    "#b=[0.7071,0,-7.464466]\n",
    "a=[0,3,-8.46446]\n",
    "b=[2.12132,3,-11.70711]\n",
    "\n",
    "va=np.array(a)\n",
    "vb=np.array(b)\n",
    "dis=va-vb\n",
    "dist=np.dot(dis,dis)**0.5\n",
    "vx=np.array([1,0,0])\n",
    "vy=np.array([0,1,0])\n",
    "vz=np.array([0,0,1])\n",
    "x=rad2deg(np.arccos(np.dot(dis,vx)/dist))\n",
    "y=rad2deg(np.arccos(np.dot(dis,vy)/dist))\n",
    "z=rad2deg(np.arccos(np.dot(dis,vz)/dist))\n",
    "print(x)\n",
    "print(y)\n",
    "print(z)"
   ]
  },
  {
   "cell_type": "code",
   "execution_count": null,
   "metadata": {},
   "outputs": [],
   "source": []
  }
 ]
}